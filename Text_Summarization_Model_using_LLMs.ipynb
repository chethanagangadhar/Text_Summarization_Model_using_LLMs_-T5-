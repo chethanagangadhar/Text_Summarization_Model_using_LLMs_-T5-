{
 "cells": [
  {
   "cell_type": "code",
   "execution_count": 1,
   "id": "151b06ad-ee2c-4d67-aff8-3b0907bba47d",
   "metadata": {},
   "outputs": [
    {
     "name": "stdout",
     "output_type": "stream",
     "text": [
      "Collecting transformersNote: you may need to restart the kernel to use updated packages.\n",
      "\n",
      "  Downloading transformers-4.48.1-py3-none-any.whl.metadata (44 kB)\n",
      "Requirement already satisfied: filelock in c:\\users\\chethana\\anaconda3\\lib\\site-packages (from transformers) (3.13.1)\n",
      "Requirement already satisfied: huggingface-hub<1.0,>=0.24.0 in c:\\users\\chethana\\anaconda3\\lib\\site-packages (from transformers) (0.27.1)\n",
      "Requirement already satisfied: numpy>=1.17 in c:\\users\\chethana\\anaconda3\\lib\\site-packages (from transformers) (1.26.4)\n",
      "Requirement already satisfied: packaging>=20.0 in c:\\users\\chethana\\anaconda3\\lib\\site-packages (from transformers) (24.1)\n",
      "Requirement already satisfied: pyyaml>=5.1 in c:\\users\\chethana\\anaconda3\\lib\\site-packages (from transformers) (6.0.1)\n",
      "Requirement already satisfied: regex!=2019.12.17 in c:\\users\\chethana\\anaconda3\\lib\\site-packages (from transformers) (2024.9.11)\n",
      "Requirement already satisfied: requests in c:\\users\\chethana\\anaconda3\\lib\\site-packages (from transformers) (2.32.3)\n",
      "Collecting tokenizers<0.22,>=0.21 (from transformers)\n",
      "  Downloading tokenizers-0.21.0-cp39-abi3-win_amd64.whl.metadata (6.9 kB)\n",
      "Requirement already satisfied: safetensors>=0.4.1 in c:\\users\\chethana\\anaconda3\\lib\\site-packages (from transformers) (0.5.2)\n",
      "Requirement already satisfied: tqdm>=4.27 in c:\\users\\chethana\\anaconda3\\lib\\site-packages (from transformers) (4.66.5)\n",
      "Requirement already satisfied: fsspec>=2023.5.0 in c:\\users\\chethana\\anaconda3\\lib\\site-packages (from huggingface-hub<1.0,>=0.24.0->transformers) (2024.6.1)\n",
      "Requirement already satisfied: typing-extensions>=3.7.4.3 in c:\\users\\chethana\\anaconda3\\lib\\site-packages (from huggingface-hub<1.0,>=0.24.0->transformers) (4.11.0)\n",
      "Requirement already satisfied: colorama in c:\\users\\chethana\\anaconda3\\lib\\site-packages (from tqdm>=4.27->transformers) (0.4.6)\n",
      "Requirement already satisfied: charset-normalizer<4,>=2 in c:\\users\\chethana\\anaconda3\\lib\\site-packages (from requests->transformers) (3.3.2)\n",
      "Requirement already satisfied: idna<4,>=2.5 in c:\\users\\chethana\\anaconda3\\lib\\site-packages (from requests->transformers) (3.7)\n",
      "Requirement already satisfied: urllib3<3,>=1.21.1 in c:\\users\\chethana\\anaconda3\\lib\\site-packages (from requests->transformers) (2.2.3)\n",
      "Requirement already satisfied: certifi>=2017.4.17 in c:\\users\\chethana\\anaconda3\\lib\\site-packages (from requests->transformers) (2024.12.14)\n",
      "Downloading transformers-4.48.1-py3-none-any.whl (9.7 MB)\n",
      "   ---------------------------------------- 0.0/9.7 MB ? eta -:--:--\n",
      "   ---------------------------------------- 0.0/9.7 MB ? eta -:--:--\n",
      "   - -------------------------------------- 0.3/9.7 MB ? eta -:--:--\n",
      "   -- ------------------------------------- 0.5/9.7 MB 1.2 MB/s eta 0:00:08\n",
      "   ---- ----------------------------------- 1.0/9.7 MB 1.3 MB/s eta 0:00:07\n",
      "   ---- ----------------------------------- 1.0/9.7 MB 1.3 MB/s eta 0:00:07\n",
      "   ----- ---------------------------------- 1.3/9.7 MB 1.2 MB/s eta 0:00:07\n",
      "   ------ --------------------------------- 1.6/9.7 MB 1.2 MB/s eta 0:00:07\n",
      "   ------- -------------------------------- 1.8/9.7 MB 1.2 MB/s eta 0:00:07\n",
      "   --------- ------------------------------ 2.4/9.7 MB 1.2 MB/s eta 0:00:06\n",
      "   ---------- ----------------------------- 2.6/9.7 MB 1.2 MB/s eta 0:00:06\n",
      "   ----------- ---------------------------- 2.9/9.7 MB 1.2 MB/s eta 0:00:06\n",
      "   ------------- -------------------------- 3.1/9.7 MB 1.2 MB/s eta 0:00:06\n",
      "   ------------- -------------------------- 3.1/9.7 MB 1.2 MB/s eta 0:00:06\n",
      "   -------------- ------------------------- 3.4/9.7 MB 1.2 MB/s eta 0:00:06\n",
      "   --------------- ------------------------ 3.7/9.7 MB 1.2 MB/s eta 0:00:06\n",
      "   ---------------- ----------------------- 3.9/9.7 MB 1.2 MB/s eta 0:00:05\n",
      "   ----------------- ---------------------- 4.2/9.7 MB 1.2 MB/s eta 0:00:05\n",
      "   ------------------ --------------------- 4.5/9.7 MB 1.2 MB/s eta 0:00:05\n",
      "   ------------------- -------------------- 4.7/9.7 MB 1.2 MB/s eta 0:00:05\n",
      "   -------------------- ------------------- 5.0/9.7 MB 1.2 MB/s eta 0:00:04\n",
      "   --------------------- ------------------ 5.2/9.7 MB 1.2 MB/s eta 0:00:04\n",
      "   ---------------------- ----------------- 5.5/9.7 MB 1.2 MB/s eta 0:00:04\n",
      "   ----------------------- ---------------- 5.8/9.7 MB 1.2 MB/s eta 0:00:04\n",
      "   ------------------------ --------------- 6.0/9.7 MB 1.2 MB/s eta 0:00:04\n",
      "   -------------------------- ------------- 6.3/9.7 MB 1.2 MB/s eta 0:00:03\n",
      "   --------------------------- ------------ 6.6/9.7 MB 1.2 MB/s eta 0:00:03\n",
      "   ---------------------------- ----------- 6.8/9.7 MB 1.2 MB/s eta 0:00:03\n",
      "   ----------------------------- ---------- 7.1/9.7 MB 1.2 MB/s eta 0:00:03\n",
      "   ------------------------------ --------- 7.3/9.7 MB 1.2 MB/s eta 0:00:02\n",
      "   ------------------------------- -------- 7.6/9.7 MB 1.2 MB/s eta 0:00:02\n",
      "   -------------------------------- ------- 7.9/9.7 MB 1.2 MB/s eta 0:00:02\n",
      "   --------------------------------- ------ 8.1/9.7 MB 1.2 MB/s eta 0:00:02\n",
      "   ---------------------------------- ----- 8.4/9.7 MB 1.2 MB/s eta 0:00:02\n",
      "   ----------------------------------- ---- 8.7/9.7 MB 1.2 MB/s eta 0:00:01\n",
      "   ------------------------------------ --- 8.9/9.7 MB 1.2 MB/s eta 0:00:01\n",
      "   ------------------------------------- -- 9.2/9.7 MB 1.2 MB/s eta 0:00:01\n",
      "   ---------------------------------------  9.4/9.7 MB 1.2 MB/s eta 0:00:01\n",
      "   ---------------------------------------- 9.7/9.7 MB 1.2 MB/s eta 0:00:00\n",
      "Downloading tokenizers-0.21.0-cp39-abi3-win_amd64.whl (2.4 MB)\n",
      "   ---------------------------------------- 0.0/2.4 MB ? eta -:--:--\n",
      "   ---------------------------------------- 0.0/2.4 MB ? eta -:--:--\n",
      "   -------- ------------------------------- 0.5/2.4 MB 1.2 MB/s eta 0:00:02\n",
      "   ------------- -------------------------- 0.8/2.4 MB 1.2 MB/s eta 0:00:02\n",
      "   ------------- -------------------------- 0.8/2.4 MB 1.2 MB/s eta 0:00:02\n",
      "   --------------------- ------------------ 1.3/2.4 MB 1.2 MB/s eta 0:00:01\n",
      "   -------------------------- ------------- 1.6/2.4 MB 1.2 MB/s eta 0:00:01\n",
      "   ------------------------------ --------- 1.8/2.4 MB 1.2 MB/s eta 0:00:01\n",
      "   ----------------------------------- ---- 2.1/2.4 MB 1.2 MB/s eta 0:00:01\n",
      "   ---------------------------------------  2.4/2.4 MB 1.2 MB/s eta 0:00:01\n",
      "   ---------------------------------------- 2.4/2.4 MB 1.2 MB/s eta 0:00:00\n",
      "Installing collected packages: tokenizers, transformers\n",
      "Successfully installed tokenizers-0.21.0 transformers-4.48.1\n"
     ]
    }
   ],
   "source": [
    "pip install transformers"
   ]
  },
  {
   "cell_type": "code",
   "execution_count": 3,
   "id": "4c65b16c-78fa-4b32-9da1-75c2a892c3e3",
   "metadata": {},
   "outputs": [
    {
     "name": "stderr",
     "output_type": "stream",
     "text": [
      "The cache for model files in Transformers v4.22.0 has been updated. Migrating your old cache. This is a one-time only operation. You can interrupt this and resume the migration later on by calling `transformers.utils.move_cache()`.\n"
     ]
    },
    {
     "data": {
      "application/vnd.jupyter.widget-view+json": {
       "model_id": "fb331ccd727c4001878921b5024de68d",
       "version_major": 2,
       "version_minor": 0
      },
      "text/plain": [
       "0it [00:00, ?it/s]"
      ]
     },
     "metadata": {},
     "output_type": "display_data"
    },
    {
     "data": {
      "application/vnd.jupyter.widget-view+json": {
       "model_id": "9b884a35021b4848a396a5c0effb7dd8",
       "version_major": 2,
       "version_minor": 0
      },
      "text/plain": [
       "tokenizer_config.json:   0%|          | 0.00/2.32k [00:00<?, ?B/s]"
      ]
     },
     "metadata": {},
     "output_type": "display_data"
    },
    {
     "name": "stderr",
     "output_type": "stream",
     "text": [
      "C:\\Users\\Chethana\\anaconda3\\Lib\\site-packages\\huggingface_hub\\file_download.py:140: UserWarning: `huggingface_hub` cache-system uses symlinks by default to efficiently store duplicated files but your machine does not support them in C:\\Users\\Chethana\\.cache\\huggingface\\hub\\models--t5-small. Caching files will still work but in a degraded version that might require more space on your disk. This warning can be disabled by setting the `HF_HUB_DISABLE_SYMLINKS_WARNING` environment variable. For more details, see https://huggingface.co/docs/huggingface_hub/how-to-cache#limitations.\n",
      "To support symlinks on Windows, you either need to activate Developer Mode or to run Python as an administrator. In order to activate developer mode, see this article: https://docs.microsoft.com/en-us/windows/apps/get-started/enable-your-device-for-development\n",
      "  warnings.warn(message)\n"
     ]
    },
    {
     "data": {
      "application/vnd.jupyter.widget-view+json": {
       "model_id": "c78db75f0efa418ab875e2d82541086e",
       "version_major": 2,
       "version_minor": 0
      },
      "text/plain": [
       "spiece.model:   0%|          | 0.00/792k [00:00<?, ?B/s]"
      ]
     },
     "metadata": {},
     "output_type": "display_data"
    },
    {
     "data": {
      "application/vnd.jupyter.widget-view+json": {
       "model_id": "490e248d6be24afa9630244ed72cca6c",
       "version_major": 2,
       "version_minor": 0
      },
      "text/plain": [
       "tokenizer.json:   0%|          | 0.00/1.39M [00:00<?, ?B/s]"
      ]
     },
     "metadata": {},
     "output_type": "display_data"
    },
    {
     "name": "stderr",
     "output_type": "stream",
     "text": [
      "You are using the default legacy behaviour of the <class 'transformers.models.t5.tokenization_t5.T5Tokenizer'>. This is expected, and simply means that the `legacy` (previous) behavior will be used so nothing changes for you. If you want to use the new behaviour, set `legacy=False`. This should only be set if you understand what it means, and thoroughly read the reason why this was added as explained in https://github.com/huggingface/transformers/pull/24565\n"
     ]
    },
    {
     "data": {
      "application/vnd.jupyter.widget-view+json": {
       "model_id": "533142a164cf48229348c11ebde6d8c7",
       "version_major": 2,
       "version_minor": 0
      },
      "text/plain": [
       "config.json:   0%|          | 0.00/1.21k [00:00<?, ?B/s]"
      ]
     },
     "metadata": {},
     "output_type": "display_data"
    },
    {
     "data": {
      "application/vnd.jupyter.widget-view+json": {
       "model_id": "97aca052fc4d409d9ec0937124e87f6f",
       "version_major": 2,
       "version_minor": 0
      },
      "text/plain": [
       "model.safetensors:   0%|          | 0.00/242M [00:00<?, ?B/s]"
      ]
     },
     "metadata": {},
     "output_type": "display_data"
    },
    {
     "data": {
      "application/vnd.jupyter.widget-view+json": {
       "model_id": "2aac012d44ce4444b09fc08bf3d158cb",
       "version_major": 2,
       "version_minor": 0
      },
      "text/plain": [
       "generation_config.json:   0%|          | 0.00/147 [00:00<?, ?B/s]"
      ]
     },
     "metadata": {},
     "output_type": "display_data"
    }
   ],
   "source": [
    "from transformers import T5Tokenizer, T5ForConditionalGeneration\n",
    "\n",
    "# load pre-trained T5 model and tokenizer\n",
    "model_name = \"t5-small\"\n",
    "tokenizer = T5Tokenizer.from_pretrained(model_name)\n",
    "model = T5ForConditionalGeneration.from_pretrained(model_name)"
   ]
  },
  {
   "cell_type": "code",
   "execution_count": 5,
   "id": "b7178826-5c67-43bb-853b-1dd36b0afe88",
   "metadata": {},
   "outputs": [],
   "source": [
    "text = \"\"\"\n",
    "Hi! I’m from the vibrant city of Bangalore, where traffic teaches patience and food teaches joy. I completed my undergrad in Computer Science and am currently diving deep into data science for my master’s. I’ve had the awesome opportunity to learn about Data and AI —turns out, machines and I get along pretty well!...\n",
    "\"\"\"\n",
    "# prepare the text for the T5 model by adding the \"summarize:\" prefix\n",
    "input_text = \"summarize: \" + text"
   ]
  },
  {
   "cell_type": "code",
   "execution_count": 7,
   "id": "370af3c2-6898-4b3d-9249-e136efa3c8df",
   "metadata": {},
   "outputs": [],
   "source": [
    "# tokenize the input text\n",
    "input_ids = tokenizer.encode(input_text, \n",
    "                             return_tensors=\"pt\",\n",
    "                             max_length=512,\n",
    "                             truncation=True)"
   ]
  },
  {
   "cell_type": "code",
   "execution_count": 9,
   "id": "cab01fc9-fcd3-4786-a067-ac03158b7ca0",
   "metadata": {},
   "outputs": [],
   "source": [
    "# generate the summary\n",
    "summary_ids = model.generate(\n",
    "    input_ids, \n",
    "    max_length=50,   # maximum length of the summary\n",
    "    num_beams=4,     # beam search for better results\n",
    "    length_penalty=2.0,  # length penalty to avoid lengthy summaries\n",
    "    early_stopping=True\n",
    ")"
   ]
  },
  {
   "cell_type": "code",
   "execution_count": 11,
   "id": "097fdc47-3c48-4576-8131-8843ac3b9aef",
   "metadata": {},
   "outputs": [
    {
     "name": "stdout",
     "output_type": "stream",
     "text": [
      "Summary: i'm from the vibrant city of Bangalore, where traffic teaches patience and food teaches joy. I completed my undergrad in computer science and am diving deep into data science for my master’s.\n"
     ]
    }
   ],
   "source": [
    "# decode the summary\n",
    "summary = tokenizer.decode(summary_ids[0], skip_special_tokens=True)\n",
    "\n",
    "print(\"Summary:\", summary)"
   ]
  },
  {
   "cell_type": "code",
   "execution_count": null,
   "id": "e01d6269-4f0b-414c-a2c0-613a07705d53",
   "metadata": {},
   "outputs": [],
   "source": []
  },
  {
   "cell_type": "code",
   "execution_count": null,
   "id": "e6a15665-bd87-4b23-b444-2e89f716b14b",
   "metadata": {},
   "outputs": [],
   "source": []
  }
 ],
 "metadata": {
  "kernelspec": {
   "display_name": "Python [conda env:base] *",
   "language": "python",
   "name": "conda-base-py"
  },
  "language_info": {
   "codemirror_mode": {
    "name": "ipython",
    "version": 3
   },
   "file_extension": ".py",
   "mimetype": "text/x-python",
   "name": "python",
   "nbconvert_exporter": "python",
   "pygments_lexer": "ipython3",
   "version": "3.12.7"
  }
 },
 "nbformat": 4,
 "nbformat_minor": 5
}
